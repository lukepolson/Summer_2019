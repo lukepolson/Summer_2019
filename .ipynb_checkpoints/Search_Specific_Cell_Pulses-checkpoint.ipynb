{
 "cells": [
  {
   "cell_type": "code",
   "execution_count": 1,
   "metadata": {},
   "outputs": [],
   "source": [
    "import pandas as pd\n",
    "import numpy as np\n",
    "import matplotlib.pyplot as plt\n",
    "import os\n",
    "from datetime import datetime\n",
    "import uproot\n",
    "import root_to_pandas\n",
    "import plot_stuff"
   ]
  },
  {
   "cell_type": "code",
   "execution_count": 2,
   "metadata": {},
   "outputs": [],
   "source": [
    "sr = 25\n",
    "times = np.arange(0,32,1, dtype=float)*sr"
   ]
  },
  {
   "cell_type": "code",
   "execution_count": 3,
   "metadata": {},
   "outputs": [],
   "source": [
    "READ_PATHS = ['/Users/lukepolson/Documents/test_data/pulse_347848/',\n",
    "              '/Users/lukepolson/Documents/test_data/pulse_347935/',\n",
    "              '/Users/lukepolson/Documents/test_data/pulse_348061/']\n",
    "DF_PATH = 'test_data/Cells/'\n",
    "HISTO_PATH = 'test_data/'"
   ]
  },
  {
   "cell_type": "code",
   "execution_count": 4,
   "metadata": {},
   "outputs": [],
   "source": [
    "COLUMNS = ['RunNumber','LBNumber',  'EventNumber','BCID','LArError','ncells', 'ECell',\n",
    "            'TCell', 'EtaCell', 'PhiCell', 'LayerCell','ProvCell', 'QuaCell','GainCell',\n",
    "            'HwidCell','ADC',]"
   ]
  },
  {
   "cell_type": "markdown",
   "metadata": {},
   "source": [
    "7791 and 26323 are identification numbers of the cells."
   ]
  },
  {
   "cell_type": "code",
   "execution_count": 5,
   "metadata": {},
   "outputs": [],
   "source": [
    "HW_IDs = [61040]\n",
    "DFS = [pd.DataFrame(columns=COLUMNS)]*len(HW_IDs)\n",
    "DFS_DICT = dict(zip(HW_IDs, DFS))"
   ]
  },
  {
   "cell_type": "markdown",
   "metadata": {},
   "source": [
    "# This is the Code that Works"
   ]
  },
  {
   "cell_type": "code",
   "execution_count": 6,
   "metadata": {},
   "outputs": [],
   "source": [
    "first_time = False\n",
    "if first_time:\n",
    "    for READ_PATH in READ_PATHS:\n",
    "        for (i,filename) in enumerate(os.listdir(READ_PATH)):\n",
    "            if(i%30==0): print(i) \n",
    "            if filename.endswith(\".pkl\"):\n",
    "                opened_df = pd.read_pickle(READ_PATH+filename)\n",
    "                for HW_ID in HW_IDs:\n",
    "                    DFS_DICT[HW_ID] = DFS_DICT[HW_ID].append(opened_df[opened_df['HwidCell']==HW_ID])\n",
    "            del(opened_df)\n",
    "            \n",
    "else: \n",
    "    for (i,filename) in enumerate(os.listdir(DF_PATH)):\n",
    "        if filename.endswith(\".pkl\"):\n",
    "            opened_df = pd.read_pickle(DF_PATH+filename)\n",
    "            hwid = int(filename[8:-4])\n",
    "            DFS_DICT[hwid] = opened_df"
   ]
  },
  {
   "cell_type": "code",
   "execution_count": 7,
   "metadata": {},
   "outputs": [],
   "source": [
    "def get_lag_time_col(row):\n",
    "    if row['RunNumber'] == 347848:\n",
    "        if (row['LBNumber']>=157 and row['LBNumber']<=189):\n",
    "            return 0\n",
    "        elif (row['LBNumber']>=190 and row['LBNumber']<=252):\n",
    "            return 12.5\n",
    "        elif (row['LBNumber']>=253 and row['LBNumber']<=284):\n",
    "            return 6.25\n",
    "        elif (row['LBNumber']>=285 and row['LBNumber']<=313):\n",
    "            return 18.75\n",
    "        elif (row['LBNumber']>=315 and row['LBNumber']<=347):\n",
    "            return 3.125\n",
    "        elif (row['LBNumber']>=349 and row['LBNumber']<=398):\n",
    "            return 21.875\n",
    "        elif (row['LBNumber']>=399 and row['LBNumber']<=420):\n",
    "            return 12.5\n",
    "        else:\n",
    "            return 1000\n",
    "        \n",
    "    if row['RunNumber'] == 347935:\n",
    "        if (row['LBNumber']>=1 and row['LBNumber']<=820):\n",
    "            return 0\n",
    "        elif (row['LBNumber']>=822 and row['LBNumber']<=852):\n",
    "            return 12.5\n",
    "        elif (row['LBNumber']>=854 and row['LBNumber']<=882):\n",
    "            return 21.875\n",
    "        elif (row['LBNumber']>=885 and row['LBNumber']<=910):\n",
    "            return 3.125\n",
    "        elif (row['LBNumber']>=912 and row['LBNumber']<=1013):\n",
    "            return 18.75\n",
    "        else:\n",
    "            return 1000\n",
    "        \n",
    "    if row['RunNumber'] == 348061:\n",
    "        if (row['LBNumber']>=1 and row['LBNumber']<=992):\n",
    "            return 9.375\n",
    "        elif (row['LBNumber']>=994):\n",
    "            return 15.625\n",
    "        else:\n",
    "            return 1000\n",
    "        \n",
    "    \n",
    "for key in DFS_DICT:\n",
    "    DFS_DICT[key]['LagTime'] = DFS_DICT[key].apply(get_lag_time_col, axis=1)     "
   ]
  },
  {
   "cell_type": "code",
   "execution_count": 8,
   "metadata": {},
   "outputs": [],
   "source": [
    "df = DFS_DICT[61040]"
   ]
  },
  {
   "cell_type": "code",
   "execution_count": 9,
   "metadata": {},
   "outputs": [
    {
     "data": {
      "image/png": "[encoded data removed]",
      "text/plain": [
       "<Figure size 576x288 with 1 Axes>"
      ]
     },
     "metadata": {
      "needs_background": "light"
     },
     "output_type": "display_data"
    }
   ],
   "source": [
    "fig, ax = plt.subplots(figsize=(8,4))\n",
    "df['ECell'].hist(bins=50, ax=ax)\n",
    "ax.set_ylabel('Frequency')\n",
    "ax.set_xlabel('Energy Deposited in Cell [arb]')\n",
    "ax.set_title('Distribution of ECell for Cell {}'.format(df.iloc[0]['HwidCell']))\n",
    "plt.show()"
   ]
  },
  {
   "cell_type": "code",
   "execution_count": 10,
   "metadata": {},
   "outputs": [],
   "source": [
    "ADC = df[df['ECell']>20000].iloc[0]['ADC']\n",
    "EE = df[df['ECell']>20000].iloc[0]['ECell']\n",
    "tt = times + df[df['ECell']>20000].iloc[0]['LagTime']"
   ]
  },
  {
   "cell_type": "code",
   "execution_count": 11,
   "metadata": {},
   "outputs": [
    {
     "data": {
      "text/plain": [
       "<matplotlib.collections.PathCollection at 0x1200370f0>"
      ]
     },
     "execution_count": 11,
     "metadata": {},
     "output_type": "execute_result"
    },
    {
     "data": {
      "image/png": "[encoded data removed]",
      "text/plain": [
       "<Figure size 432x288 with 1 Axes>"
      ]
     },
     "metadata": {
      "needs_background": "light"
     },
     "output_type": "display_data"
    }
   ],
   "source": [
    "plt.scatter(tt, ADC/EE)"
   ]
  },
  {
   "cell_type": "markdown",
   "metadata": {},
   "source": [
    "# How Does this Compare to Time Averaged Pulse?"
   ]
  },
  {
   "cell_type": "code",
   "execution_count": 12,
   "metadata": {},
   "outputs": [],
   "source": [
    "file = uproot.open(HISTO_PATH+'LArPulseTest.root')\n",
    "hwids = [int(key[5:-2].decode('utf-8')) for key in file.keys()]\n",
    "\n",
    "histos = [file[key] for key in file.keys()]\n",
    "histo_dfs = [root_to_pandas.hist_to_df(histo) for histo in histos]\n",
    "histo_dfs = dict(zip(hwids, histo_dfs))"
   ]
  },
  {
   "cell_type": "code",
   "execution_count": 13,
   "metadata": {},
   "outputs": [
    {
     "data": {
      "image/png": "[encoded data removed]",
      "text/plain": [
       "<Figure size 720x360 with 1 Axes>"
      ]
     },
     "metadata": {
      "needs_background": "light"
     },
     "output_type": "display_data"
    }
   ],
   "source": [
    "fig, ax = plt.subplots(figsize=(10,5))\n",
    "\n",
    "ax.scatter(tt, ADC/EE, color='b', label='Anomaly')\n",
    "plot_stuff.plotter_macro(ax, histo_dfs, hwids[2])\n",
    "\n",
    "plt.savefig('test.png', dpi=200)\n",
    "plt.show()"
   ]
  }
 ],
 "metadata": {
  "kernelspec": {
   "display_name": "Python 3",
   "language": "python",
   "name": "python3"
  },
  "language_info": {
   "codemirror_mode": {
    "name": "ipython",
    "version": 3
   },
   "file_extension": ".py",
   "mimetype": "text/x-python",
   "name": "python",
   "nbconvert_exporter": "python",
   "pygments_lexer": "ipython3",
   "version": "3.6.7"
  }
 },
 "nbformat": 4,
 "nbformat_minor": 2
}
