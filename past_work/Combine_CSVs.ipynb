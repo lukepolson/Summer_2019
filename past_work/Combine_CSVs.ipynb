{
 "cells": [
  {
   "cell_type": "code",
   "execution_count": 1,
   "metadata": {},
   "outputs": [],
   "source": [
    "import os\n",
    "import glob\n",
    "import pandas as pd\n",
    "import numpy as np\n",
    "os.chdir(\"/Users/lukepolson/Documents/test_data/pulse_347848\")"
   ]
  },
  {
   "cell_type": "markdown",
   "metadata": {},
   "source": [
    "Open up all files and get the cell number corresponding to each file."
   ]
  },
  {
   "cell_type": "code",
   "execution_count": 2,
   "metadata": {},
   "outputs": [],
   "source": [
    "extension = 'csv'\n",
    "all_filenames = np.array([i for i in glob.glob('*.{}'.format(extension))])\n",
    "keys = np.array([int(name[5:-4]) for name in all_filenames])"
   ]
  },
  {
   "cell_type": "markdown",
   "metadata": {},
   "source": [
    "Sort the filenames based on their cell number."
   ]
  },
  {
   "cell_type": "code",
   "execution_count": 3,
   "metadata": {},
   "outputs": [],
   "source": [
    "ix = np.argsort(keys)\n",
    "all_filenames = all_filenames[ix]\n",
    "keys = keys[ix]"
   ]
  },
  {
   "cell_type": "markdown",
   "metadata": {},
   "source": [
    "Create a dictionary of the keys and filenames"
   ]
  },
  {
   "cell_type": "code",
   "execution_count": 4,
   "metadata": {},
   "outputs": [],
   "source": [
    "file_dict = dict(zip(keys, all_filenames))"
   ]
  },
  {
   "cell_type": "code",
   "execution_count": 5,
   "metadata": {},
   "outputs": [
    {
     "name": "stderr",
     "output_type": "stream",
     "text": [
      "ERROR:root:Internal Python error in the inspect module.\n",
      "Below is the traceback from this internal error.\n",
      "\n"
     ]
    },
    {
     "name": "stdout",
     "output_type": "stream",
     "text": [
      "Traceback (most recent call last):\n",
      "  File \"/Users/lukepolson/anaconda3/lib/python3.6/site-packages/IPython/core/interactiveshell.py\", line 2862, in run_code\n",
      "    exec(code_obj, self.user_global_ns, self.user_ns)\n",
      "  File \"<ipython-input-5-e3f8317f90ff>\", line 6, in <module>\n",
      "    combined_csv = pd.concat([pd.read_csv(file_dict[keys[idx]]) for idx in idxs[0]])\n",
      "  File \"/Users/lukepolson/anaconda3/lib/python3.6/site-packages/pandas/core/reshape/concat.py\", line 229, in concat\n",
      "    return op.get_result()\n",
      "  File \"/Users/lukepolson/anaconda3/lib/python3.6/site-packages/pandas/core/reshape/concat.py\", line 426, in get_result\n",
      "    copy=self.copy)\n",
      "  File \"/Users/lukepolson/anaconda3/lib/python3.6/site-packages/pandas/core/internals/managers.py\", line 2056, in concatenate_block_managers\n",
      "    elif is_uniform_join_units(join_units):\n",
      "  File \"/Users/lukepolson/anaconda3/lib/python3.6/site-packages/pandas/core/internals/concat.py\", line 379, in is_uniform_join_units\n",
      "    all(not ju.is_na or ju.block.is_extension for ju in join_units) and\n",
      "  File \"/Users/lukepolson/anaconda3/lib/python3.6/site-packages/pandas/core/internals/concat.py\", line 379, in <genexpr>\n",
      "    all(not ju.is_na or ju.block.is_extension for ju in join_units) and\n",
      "  File \"pandas/_libs/properties.pyx\", line 36, in pandas._libs.properties.CachedProperty.__get__\n",
      "  File \"/Users/lukepolson/anaconda3/lib/python3.6/site-packages/pandas/core/internals/concat.py\", line 151, in is_na\n",
      "    elif is_sparse(self.block.values.dtype):\n",
      "  File \"/Users/lukepolson/anaconda3/lib/python3.6/site-packages/pandas/core/dtypes/common.py\", line 216, in is_sparse\n",
      "    from pandas.core.arrays.sparse import SparseDtype\n",
      "  File \"<frozen importlib._bootstrap>\", line 1007, in _handle_fromlist\n",
      "KeyboardInterrupt\n",
      "\n",
      "During handling of the above exception, another exception occurred:\n",
      "\n",
      "Traceback (most recent call last):\n",
      "  File \"/Users/lukepolson/anaconda3/lib/python3.6/site-packages/IPython/core/interactiveshell.py\", line 1806, in showtraceback\n",
      "    stb = value._render_traceback_()\n",
      "AttributeError: 'KeyboardInterrupt' object has no attribute '_render_traceback_'\n",
      "\n",
      "During handling of the above exception, another exception occurred:\n",
      "\n",
      "Traceback (most recent call last):\n",
      "  File \"/Users/lukepolson/anaconda3/lib/python3.6/site-packages/IPython/core/ultratb.py\", line 1090, in get_records\n",
      "    return _fixed_getinnerframes(etb, number_of_lines_of_context, tb_offset)\n",
      "  File \"/Users/lukepolson/anaconda3/lib/python3.6/site-packages/IPython/core/ultratb.py\", line 311, in wrapped\n",
      "    return f(*args, **kwargs)\n",
      "  File \"/Users/lukepolson/anaconda3/lib/python3.6/site-packages/IPython/core/ultratb.py\", line 345, in _fixed_getinnerframes\n",
      "    records = fix_frame_records_filenames(inspect.getinnerframes(etb, context))\n",
      "  File \"/Users/lukepolson/anaconda3/lib/python3.6/inspect.py\", line 1488, in getinnerframes\n",
      "    frameinfo = (tb.tb_frame,) + getframeinfo(tb, context)\n",
      "  File \"/Users/lukepolson/anaconda3/lib/python3.6/inspect.py\", line 1446, in getframeinfo\n",
      "    filename = getsourcefile(frame) or getfile(frame)\n",
      "  File \"/Users/lukepolson/anaconda3/lib/python3.6/inspect.py\", line 696, in getsourcefile\n",
      "    if getattr(getmodule(object, filename), '__loader__', None) is not None:\n",
      "  File \"/Users/lukepolson/anaconda3/lib/python3.6/inspect.py\", line 733, in getmodule\n",
      "    if ismodule(module) and hasattr(module, '__file__'):\n",
      "  File \"/Users/lukepolson/anaconda3/lib/python3.6/site-packages/py/_apipkg.py\", line 171, in __getattribute__\n",
      "    return getattr(getmod(), name)\n",
      "  File \"/Users/lukepolson/anaconda3/lib/python3.6/site-packages/py/_apipkg.py\", line 155, in getmod\n",
      "    x = importobj(modpath, None)\n",
      "  File \"/Users/lukepolson/anaconda3/lib/python3.6/site-packages/py/_apipkg.py\", line 48, in importobj\n",
      "    module = __import__(modpath, None, None, ['__doc__'])\n",
      "  File \"/Users/lukepolson/anaconda3/lib/python3.6/site-packages/pytest.py\", line 9, in <module>\n",
      "    from _pytest.config import (\n",
      "  File \"/Users/lukepolson/anaconda3/lib/python3.6/site-packages/_pytest/config.py\", line 14, in <module>\n",
      "    import _pytest.hookspec  # the extension point definitions\n",
      "  File \"/Users/lukepolson/anaconda3/lib/python3.6/site-packages/_pytest/hookspec.py\", line 3, in <module>\n",
      "    from _pytest._pluggy import HookspecMarker\n",
      "  File \"/Users/lukepolson/anaconda3/lib/python3.6/site-packages/_pytest/_pluggy.py\", line 7, in <module>\n",
      "    from _pytest.vendored_packages.pluggy import *  # noqa\n",
      "  File \"<frozen importlib._bootstrap>\", line 971, in _find_and_load\n",
      "  File \"<frozen importlib._bootstrap>\", line 955, in _find_and_load_unlocked\n",
      "  File \"<frozen importlib._bootstrap>\", line 665, in _load_unlocked\n",
      "  File \"<frozen importlib._bootstrap_external>\", line 674, in exec_module\n",
      "  File \"<frozen importlib._bootstrap_external>\", line 764, in get_code\n",
      "  File \"<frozen importlib._bootstrap_external>\", line 833, in get_data\n",
      "KeyboardInterrupt\n"
     ]
    },
    {
     "ename": "KeyboardInterrupt",
     "evalue": "",
     "output_type": "error",
     "traceback": [
      "\u001b[0;31m---------------------------------------------------------------------------\u001b[0m"
     ]
    }
   ],
   "source": [
    "for i in range(248):\n",
    "    file_path = 'test/IDs{}-{}.csv'.format(1000*i, 1000*(i+1)-1)\n",
    "    idxs = np.where((keys>=1000*i)*(keys<(1000*(i+1))))\n",
    "    if idxs[0].size == 0:\n",
    "        continue\n",
    "    combined_csv = pd.concat([pd.read_csv(file_dict[keys[idx]]) for idx in idxs[0]])\n",
    "    combined_csv.to_csv(file_path, index=False)"
   ]
  }
 ],
 "metadata": {
  "kernelspec": {
   "display_name": "Python 3",
   "language": "python",
   "name": "python3"
  },
  "language_info": {
   "codemirror_mode": {
    "name": "ipython",
    "version": 3
   },
   "file_extension": ".py",
   "mimetype": "text/x-python",
   "name": "python",
   "nbconvert_exporter": "python",
   "pygments_lexer": "ipython3",
   "version": "3.6.7"
  }
 },
 "nbformat": 4,
 "nbformat_minor": 2
}
