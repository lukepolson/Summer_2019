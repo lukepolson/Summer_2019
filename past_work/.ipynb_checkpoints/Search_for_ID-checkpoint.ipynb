{
 "cells": [
  {
   "cell_type": "code",
   "execution_count": 1,
   "metadata": {},
   "outputs": [],
   "source": [
    "import pandas as pd\n",
    "import numpy as np\n",
    "import matplotlib.pyplot as plt\n",
    "import os\n",
    "from datetime import datetime"
   ]
  },
  {
   "cell_type": "code",
   "execution_count": 2,
   "metadata": {},
   "outputs": [],
   "source": [
    "sr = 25\n",
    "times = np.arange(0,32,1, dtype=float)*sr"
   ]
  },
  {
   "cell_type": "code",
   "execution_count": 3,
   "metadata": {},
   "outputs": [],
   "source": [
    "READ_PATHS = ['/Users/lukepolson/Documents/test_data/pulse_347848/',\n",
    "              '/Users/lukepolson/Documents/test_data/pulse_347935/',\n",
    "              '/Users/lukepolson/Documents/test_data/pulse_348061/']"
   ]
  },
  {
   "cell_type": "code",
   "execution_count": 4,
   "metadata": {},
   "outputs": [],
   "source": [
    "COLUMNS = ['RunNumber','LBNumber',  'EventNumber','BCID','LArError','ncells', 'ECell',\n",
    "            'TCell', 'EtaCell', 'PhiCell', 'LayerCell','ProvCell', 'QuaCell','GainCell',\n",
    "            'HwidCell','ADC',]"
   ]
  },
  {
   "cell_type": "markdown",
   "metadata": {},
   "source": [
    "7791 and 26323 are identification numbers of the cells."
   ]
  },
  {
   "cell_type": "code",
   "execution_count": 5,
   "metadata": {},
   "outputs": [],
   "source": [
    "HW_IDs = [61040]\n",
    "DFS = [pd.DataFrame(columns=COLUMNS)]*len(HW_IDs)\n",
    "DFS_DICT = dict(zip(HW_IDs, DFS))"
   ]
  },
  {
   "cell_type": "markdown",
   "metadata": {},
   "source": [
    "# This is the Code that Works"
   ]
  },
  {
   "cell_type": "code",
   "execution_count": null,
   "metadata": {},
   "outputs": [
    {
     "name": "stdout",
     "output_type": "stream",
     "text": [
      "0\n"
     ]
    }
   ],
   "source": [
    "for READ_PATH in READ_PATHS:\n",
    "    for (i,filename) in enumerate(os.listdir(READ_PATH)):\n",
    "        if(i%30==0): print(i) \n",
    "        if filename.endswith(\".pkl\"):\n",
    "            opened_df = pd.read_pickle(READ_PATH+filename)\n",
    "            for HW_ID in HW_IDs:\n",
    "                DFS_DICT[HW_ID] = DFS_DICT[HW_ID].append(opened_df[opened_df['HwidCell']==HW_ID])\n",
    "        del(opened_df)"
   ]
  },
  {
   "cell_type": "code",
   "execution_count": null,
   "metadata": {},
   "outputs": [],
   "source": [
    "BIG_DF = pd.DataFrame(columns=COLUMNS)\n",
    "for (i,filename) in enumerate(os.listdir(READ_PATH)):\n",
    "    if i%20==0:\n",
    "        print(i)\n",
    "        BIG_DF['groups']=pd.cut(BIG_DF['HwidCell'],group_intervals)\n",
    "        print(i)\n",
    "        grouped = BIG_DF.groupby('groups')\n",
    "        print(i)\n",
    "        for name, group in grouped:\n",
    "            file_loc = READ_PATH+'csvs/cell_'+str(name)+'.csv'\n",
    "            with open(file_loc, 'a') as f:\n",
    "                group.sort_values(by=['HwidCell']).to_csv(f, header=f.tell()==0)\n",
    "        del(BIG_DF)\n",
    "        BIG_DF = pd.DataFrame(columns=COLUMNS)\n",
    "            \n",
    "    if filename.endswith(\".pkl\"):\n",
    "        opened_df = pd.read_pickle(READ_PATH+filename)\n",
    "        BIG_DF = pd.concat([opened_df, BIG_DF])\n",
    "        del(opened_df)\n",
    "        "
   ]
  },
  {
   "cell_type": "code",
   "execution_count": null,
   "metadata": {},
   "outputs": [],
   "source": [
    "def get_lag_time_col(row):\n",
    "    if (row['LBNumber']>=157 and row['LBNumber']<=189):\n",
    "        return 0\n",
    "    elif (row['LBNumber']>=190 and row['LBNumber']<=252):\n",
    "        return 12.5\n",
    "    elif (row['LBNumber']>=253 and row['LBNumber']<=284):\n",
    "        return 6.25\n",
    "    elif (row['LBNumber']>=285 and row['LBNumber']<=313):\n",
    "        return 18.75\n",
    "    elif (row['LBNumber']>=315 and row['LBNumber']<=347):\n",
    "        return 3.125\n",
    "    elif (row['LBNumber']>=349 and row['LBNumber']<=398):\n",
    "        return 21.875\n",
    "    elif (row['LBNumber']>=399 and row['LBNumber']<=420):\n",
    "        return 12.5\n",
    "    else:\n",
    "        return 1000"
   ]
  },
  {
   "cell_type": "code",
   "execution_count": null,
   "metadata": {},
   "outputs": [],
   "source": [
    "for key in DFS_DICT:\n",
    "    DFS_DICT[key]['LagTime'] = DFS_DICT[key].apply(get_lag_time_col, axis=1)"
   ]
  },
  {
   "cell_type": "code",
   "execution_count": null,
   "metadata": {},
   "outputs": [],
   "source": [
    "DFS_DICT[505]['LBNumber']"
   ]
  },
  {
   "cell_type": "markdown",
   "metadata": {},
   "source": [
    "# Not Weighted By Energy"
   ]
  },
  {
   "cell_type": "code",
   "execution_count": null,
   "metadata": {},
   "outputs": [],
   "source": [
    "tt = np.arange(0, 32*sr+max(DFS_DICT[505]['LagTime']), 3.125)\n",
    "histo_df = pd.DataFrame(columns=list(tt))\n",
    "\n",
    "for index, row in DFS_DICT[505].iterrows():\n",
    "    t = list(times + row['LagTime'])\n",
    "    new_row = row['ADC']/row['ECell']\n",
    "    histo_df = histo_df.append(dict(zip(t, new_row)), ignore_index=True)\n",
    "    \n",
    "histo_df_d = histo_df.describe()"
   ]
  },
  {
   "cell_type": "code",
   "execution_count": null,
   "metadata": {},
   "outputs": [],
   "source": [
    "weights = np.array(DFS_DICT[505]['ECell'])"
   ]
  },
  {
   "cell_type": "code",
   "execution_count": null,
   "metadata": {},
   "outputs": [],
   "source": [
    "df2 = histo_df.where(pd.isnull,1).mul(weights, axis='rows')\n",
    "df2 = df2.multiply(1 / df2.sum(axis=0), axis=1)\n",
    "df2.head()"
   ]
  },
  {
   "cell_type": "code",
   "execution_count": null,
   "metadata": {},
   "outputs": [],
   "source": [
    "ser1 = pd.Series(histo_df_d.T['mean'])\n",
    "\n",
    "fig, ax = plt.subplots(1,1, figsize=(15,5))\n",
    "ax.scatter(ser1.index, ser1)\n",
    "ax.grid()\n",
    "ax.set_xlabel('Time (ns)')\n",
    "plt.show()"
   ]
  },
  {
   "cell_type": "markdown",
   "metadata": {},
   "source": [
    "# Weighted By Energy"
   ]
  },
  {
   "cell_type": "code",
   "execution_count": null,
   "metadata": {},
   "outputs": [],
   "source": [
    "tt = np.arange(0, 32*sr+max(DFS_DICT[505]['LagTime']), 3.125)\n",
    "histo_df = pd.DataFrame(columns=list(tt))\n",
    "\n",
    "for index, row in DFS_DICT[505].iterrows():\n",
    "    t = list(times + row['LagTime'])\n",
    "    new_row = row['ADC']/row['ECell']\n",
    "    histo_df = histo_df.append(dict(zip(t, new_row)), ignore_index=True)\n",
    "\n",
    "weighted = True\n",
    "if weighted:\n",
    "    w_df = histo_df.where(pd.isnull,1).mul(weights, axis='rows')\n",
    "    w_df = w_df.multiply(1 / w_df.sum(axis=0), axis=1)\n",
    "    std_corr1 = w_df.sum(axis=0)**2; std_corr2 = (w_df**2).sum(axis=0)\n",
    "    w_df = w_df.mul(w_df.describe().T['count'], axis=1)\n",
    "    \n",
    "histo_df = (histo_df * w_df).describe()\n",
    "histo_df = histo_df.append(pd.Series(std_corr1/std_corr2, name='mean_std_corr'))\n",
    "histo_df = histo_df.append(pd.Series(histo_df.T['std']/np.sqrt(histo_df.T['mean_std_corr']), name='std_mean'))"
   ]
  },
  {
   "cell_type": "code",
   "execution_count": null,
   "metadata": {},
   "outputs": [],
   "source": [
    "histo_df"
   ]
  },
  {
   "cell_type": "code",
   "execution_count": null,
   "metadata": {},
   "outputs": [],
   "source": [
    "ser2 = pd.Series(histo_df.T['mean'])\n",
    "ser_err = pd.Series(histo_df.T['std_mean'])\n",
    "\n",
    "fig, ax = plt.subplots(1,1, figsize=(15,5))\n",
    "ax.errorbar(ser2.index, ser2, ser_err, c='k')\n",
    "ax.scatter(ser2.index, ser2)\n",
    "ax.grid()\n",
    "ax.set_xlabel('Time (ns)')\n",
    "plt.show()"
   ]
  },
  {
   "cell_type": "markdown",
   "metadata": {},
   "source": [
    "# Comparison"
   ]
  },
  {
   "cell_type": "code",
   "execution_count": null,
   "metadata": {},
   "outputs": [],
   "source": [
    "fig, ax = plt.subplots(1,1, figsize=(15,5))\n",
    "ax.scatter(ser1.index, ser1, s=2)\n",
    "ax.scatter(ser2.index, ser2, s=2)\n",
    "ax.grid()"
   ]
  },
  {
   "cell_type": "code",
   "execution_count": null,
   "metadata": {},
   "outputs": [],
   "source": [
    "READ_PATH_TEST = '/Users/lukepolson/Documents/test_data/pulse_347848/DF1.pkl'\n",
    "opened_df = pd.read_pickle(READ_PATH_TEST)"
   ]
  }
 ],
 "metadata": {
  "kernelspec": {
   "display_name": "Python 3",
   "language": "python",
   "name": "python3"
  },
  "language_info": {
   "codemirror_mode": {
    "name": "ipython",
    "version": 3
   },
   "file_extension": ".py",
   "mimetype": "text/x-python",
   "name": "python",
   "nbconvert_exporter": "python",
   "pygments_lexer": "ipython3",
   "version": "3.6.7"
  }
 },
 "nbformat": 4,
 "nbformat_minor": 2
}
