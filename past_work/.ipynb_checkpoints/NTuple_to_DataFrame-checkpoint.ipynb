{
 "cells": [
  {
   "cell_type": "markdown",
   "metadata": {},
   "source": [
    "NOTE: Since we are using a mount to access the data we need to make sure that the directory Hep_300_Mount actually links to the symmetry server. The way to do this is to move to the directory Hep_300_Mount on the local machine in terminal and then run\n",
    "\n",
    "<br/>\n",
    "\n",
    "<div>\"sshfs lpolson@symmetry.uvic.ca:/hep300/ Documents/Mounts/Hep_300_Mount\"</div>"
   ]
  },
  {
   "cell_type": "markdown",
   "metadata": {},
   "source": [
    "# Open File and Store in DataFrame"
   ]
  },
  {
   "cell_type": "code",
   "execution_count": 1,
   "metadata": {},
   "outputs": [],
   "source": [
    "import uproot\n",
    "import matplotlib.pyplot as plt\n",
    "import numpy as np\n",
    "import pandas as pd\n",
    "import glob"
   ]
  },
  {
   "cell_type": "markdown",
   "metadata": {},
   "source": [
    "Define sampling rate"
   ]
  },
  {
   "cell_type": "code",
   "execution_count": 10,
   "metadata": {},
   "outputs": [],
   "source": [
    "SR = 25 #in nanoseconds"
   ]
  },
  {
   "cell_type": "markdown",
   "metadata": {},
   "source": [
    "For uproot see https://uproot.readthedocs.io/en/latest/ for documentation or https://github.com/scikit-hep/uproot for github page."
   ]
  },
  {
   "cell_type": "code",
   "execution_count": 25,
   "metadata": {},
   "outputs": [],
   "source": [
    "READ_PATH = '/Users/lukepolson/Documents/Mounts/Hep_300_Mount/data-shared/LArPulse/ntuples/pulse_347935/'\n",
    "WRITE_PATH = '/Users/lukepolson/Documents/Mounts/Hep_300_Mount/data-shared/LArPulse/DataFrames/pulse_347935/'"
   ]
  },
  {
   "cell_type": "markdown",
   "metadata": {},
   "source": [
    "Use UPROOT to get the names of all the files."
   ]
  },
  {
   "cell_type": "code",
   "execution_count": 43,
   "metadata": {},
   "outputs": [],
   "source": [
    "def construct_df(tree):\n",
    "    LABELS_bytes = tree.keys()\n",
    "    LABELS = [label.decode(\"utf-8\") for label in LABELS_bytes]\n",
    "    ARRAYS = [tree[label] for label in LABELS_bytes]\n",
    "    DICT = dict(zip(LABELS, ARRAYS))\n",
    "    df = pd.DataFrame.from_dict(DICT)\n",
    "    df = df[df.ncells != 0]\n",
    "    \n",
    "    return pd.DataFrame({'RunNumber':df.RunNumber.repeat(df.ncells),\n",
    "                         'LBNumber':df.LBNumber.repeat(df.ncells),\n",
    "                         'EventNumber':df.EventNumber.repeat(df.ncells),\n",
    "                         'BCID':df.BCID.repeat(df.ncells),\n",
    "                         'LArError':df.LArError.repeat(df.ncells),\n",
    "                         'ncells':df.ncells.repeat(df.ncells),\n",
    "                         'ECell':np.concatenate(df.ECell.values),\n",
    "                         'TCell':np.concatenate(df.TCell.values),\n",
    "                         'EtaCell':np.concatenate(df.EtaCell.values),\n",
    "                         'PhiCell':np.concatenate(df.PhiCell.values),\n",
    "                         'LayerCell':np.concatenate(df.LayerCell.values),\n",
    "                         'ProvCell':np.concatenate(df.ProvCell.values),\n",
    "                         'QuaCell':np.concatenate(df.QuaCell.values),\n",
    "                         'GainCell':np.concatenate(df.GainCell.values),\n",
    "                         'HwidCell':np.concatenate(df.HwidCell.values),\n",
    "                         'ADC':list(np.concatenate(ARRAYS[-1]))})"
   ]
  },
  {
   "cell_type": "code",
   "execution_count": 44,
   "metadata": {},
   "outputs": [],
   "source": [
    "for (i ,tree) in enumerate(uproot.iterate(READ_PATH+\"*.root\", 'myTree')):\n",
    "    construct_df(tree).to_pickle(WRITE_PATH+\"/DF{}.pkl\".format(i))"
   ]
  }
 ],
 "metadata": {
  "kernelspec": {
   "display_name": "Python 3",
   "language": "python",
   "name": "python3"
  },
  "language_info": {
   "codemirror_mode": {
    "name": "ipython",
    "version": 3
   },
   "file_extension": ".py",
   "mimetype": "text/x-python",
   "name": "python",
   "nbconvert_exporter": "python",
   "pygments_lexer": "ipython3",
   "version": "3.6.7"
  }
 },
 "nbformat": 4,
 "nbformat_minor": 2
}
